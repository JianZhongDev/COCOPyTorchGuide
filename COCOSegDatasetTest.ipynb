{
 "cells": [
  {
   "cell_type": "code",
   "execution_count": null,
   "id": "ab0cbd51-a74e-4948-882b-3302e7c827cf",
   "metadata": {},
   "outputs": [],
   "source": [
    "## import modules\n",
    "\n",
    "import os\n",
    "\n",
    "import torch\n",
    "from torchvision.transforms import v2\n",
    "\n",
    "import matplotlib.pyplot as plt\n",
    "import importlib\n",
    "import numpy as np"
   ]
  },
  {
   "cell_type": "code",
   "execution_count": null,
   "id": "53005386-bbde-4f3d-a10e-780b49848372",
   "metadata": {},
   "outputs": [],
   "source": [
    "# import required modules\n",
    "\n",
    "import Modules.COCODataset as COCODataset\n",
    "import Modules.ImageStackTransform as ImageStackTransform"
   ]
  },
  {
   "cell_type": "code",
   "execution_count": null,
   "id": "12572a16-0d08-4308-95ad-3148c1e08899",
   "metadata": {},
   "outputs": [],
   "source": [
    "## input configurations\n",
    "\n",
    "src_annotation_file_path = r\"./data/annotations_trainval2014/annotations/instances_train2014.json\"\n",
    "category_names = [r\"cat\"]"
   ]
  },
  {
   "cell_type": "code",
   "execution_count": null,
   "id": "7d555f91-1402-45a7-af4e-315a7bac564b",
   "metadata": {},
   "outputs": [],
   "source": [
    "## test data set and transforms\n",
    "\n",
    "importlib.reload(COCODataset)\n",
    "importlib.reload(ImageStackTransform)\n",
    "\n",
    "# create common transforms\n",
    "common_transforms = v2.Compose([\n",
    "    ImageStackTransform.RandomCrop(\n",
    "        size = (256,256), \n",
    "        pad_if_needed = True, \n",
    "        padding_mode = \"reflect\",\n",
    "    ),\n",
    "    ImageStackTransform.RandomHorizontalFlip(p = 0.5),\n",
    "    ImageStackTransform.RandomVerticalFlip(p = 0.5),\n",
    "])\n",
    "\n",
    "# create coco segmentation dataset\n",
    "coco_dataset = COCODataset.COCOSegDataset(\n",
    "    annotation_file_path = src_annotation_file_path,\n",
    "    category_names = category_names,\n",
    "    common_transform = common_transforms,\n",
    "    color_categories = False,\n",
    "    split_segmentations = False,\n",
    ")"
   ]
  },
  {
   "cell_type": "code",
   "execution_count": null,
   "id": "5ec65fb3-0790-49d6-9a25-a1032fc24a75",
   "metadata": {},
   "outputs": [],
   "source": [
    "## check data and label\n",
    "check_idx = 0\n",
    "\n",
    "check_data, check_label = coco_dataset[check_idx]\n",
    "check_data = check_data.numpy()\n",
    "check_label = check_label.numpy()\n",
    "\n",
    "plt.figure()\n",
    "\n",
    "plt.subplot(1,2,1)\n",
    "plt.imshow(np.rollaxis(check_data,0,3))\n",
    "plt.xticks([])\n",
    "plt.yticks([])\n",
    "plt.title(\"Data\")\n",
    "\n",
    "plt.subplot(1,2,2)\n",
    "plt.imshow(np.rollaxis(check_label,0,3), cmap = \"tab20c\")\n",
    "# plt.colorbar()\n",
    "plt.xticks([])\n",
    "plt.yticks([])\n",
    "plt.title(\"Target\")\n",
    "\n",
    "plt.tight_layout()\n",
    "plt.show()"
   ]
  },
  {
   "cell_type": "code",
   "execution_count": null,
   "id": "2951109e-6a73-442b-a37a-5dbc7d00fc6f",
   "metadata": {},
   "outputs": [],
   "source": []
  }
 ],
 "metadata": {
  "kernelspec": {
   "display_name": "Python 3 (ipykernel)",
   "language": "python",
   "name": "python3"
  },
  "language_info": {
   "codemirror_mode": {
    "name": "ipython",
    "version": 3
   },
   "file_extension": ".py",
   "mimetype": "text/x-python",
   "name": "python",
   "nbconvert_exporter": "python",
   "pygments_lexer": "ipython3",
   "version": "3.10.13"
  }
 },
 "nbformat": 4,
 "nbformat_minor": 5
}
