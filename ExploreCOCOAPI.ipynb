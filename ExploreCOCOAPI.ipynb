{
 "cells": [
  {
   "cell_type": "code",
   "execution_count": null,
   "id": "d268c412-c27e-4c85-b51b-e494c43d3bc0",
   "metadata": {},
   "outputs": [],
   "source": [
    "## import necessary modules\n",
    "import os\n",
    "from pycocotools.coco import COCO\n",
    "import matplotlib.pyplot as plt\n",
    "import numpy as np\n",
    "import skimage"
   ]
  },
  {
   "cell_type": "code",
   "execution_count": null,
   "id": "e9994688-da63-4f36-b498-de4fd82f6776",
   "metadata": {},
   "outputs": [],
   "source": [
    "## source file configuration\n",
    "src_annotation_file_path = r\"./data/annotations_trainval2014/annotations/instances_train2014.json\"\n",
    "local_image_dir = r\".\\data\\annotations_trainval2014\\annotations\\images\"\n",
    "\n",
    "category_names = [r\"cat\"]"
   ]
  },
  {
   "cell_type": "code",
   "execution_count": null,
   "id": "684e43e5-7d80-48e0-a673-dc48e15c1e2c",
   "metadata": {},
   "outputs": [],
   "source": [
    "## create COCO object\n",
    "coco_obj = COCO(src_annotation_file_path)"
   ]
  },
  {
   "cell_type": "code",
   "execution_count": null,
   "id": "6995bd25-8230-4a50-9262-ff512710746c",
   "metadata": {},
   "outputs": [],
   "source": [
    "## check coco info\n",
    "coco_obj.info()"
   ]
  },
  {
   "cell_type": "code",
   "execution_count": null,
   "id": "53bbd582-41a9-4112-99d2-ac5c3af44869",
   "metadata": {},
   "outputs": [],
   "source": [
    "## check coco dataset categories\n",
    "print(coco_obj.dataset[\"categories\"])"
   ]
  },
  {
   "cell_type": "code",
   "execution_count": null,
   "id": "82a4e5ca-aa01-4b33-968c-aef6210abc38",
   "metadata": {},
   "outputs": [],
   "source": [
    "## get category IDs\n",
    "cat_ids = coco_obj.getCatIds(catNms = category_names)\n",
    "print(cat_ids)"
   ]
  },
  {
   "cell_type": "code",
   "execution_count": null,
   "id": "1b6796a5-1a23-46ee-b2e8-1c0074b7a0a5",
   "metadata": {},
   "outputs": [],
   "source": [
    "## get all the image IDs of corresponding categories \n",
    "img_ids = coco_obj.getImgIds(catIds = cat_ids)\n",
    "print(len(img_ids))"
   ]
  },
  {
   "cell_type": "code",
   "execution_count": null,
   "id": "a8be557c-c16a-42ef-8773-fc0997b07185",
   "metadata": {},
   "outputs": [],
   "source": [
    "## select one of the image and download the image to local\n",
    "selected_img_idx = 0\n",
    "\n",
    "selected_img_id = img_ids[selected_img_idx]\n",
    "print(selected_img_id)\n",
    "\n",
    "# create local directory if not exsist\n",
    "if not os.path.isdir(local_image_dir):\n",
    "    os.makedirs(local_image_dir)\n",
    "\n",
    "# call the download method to download the image\n",
    "coco_obj.download(tarDir = local_image_dir, imgIds = [selected_img_id])"
   ]
  },
  {
   "cell_type": "code",
   "execution_count": null,
   "id": "491ca92e-3b3a-4a00-8365-114980f19bc9",
   "metadata": {},
   "outputs": [],
   "source": [
    "## load coco image downloaded image\n",
    "# load coco image (dictionary)\n",
    "selected_img = coco_obj.loadImgs(ids = [selected_img_id])\n",
    "print(selected_img)\n",
    "\n",
    "# create local image path\n",
    "local_image_path = os.path.join(local_image_dir, selected_img[0][\"file_name\"])\n",
    "print(local_image_path)\n",
    "\n",
    "# load local image\n",
    "local_image = skimage.io.imread(local_image_path)\n",
    "\n",
    "# plot local image\n",
    "plt.figure()\n",
    "plt.imshow(local_image)\n",
    "plt.xticks([])\n",
    "plt.yticks([])\n",
    "plt.title(\"Downloaded image\")\n",
    "plt.show()"
   ]
  },
  {
   "cell_type": "code",
   "execution_count": null,
   "id": "58d18be7-0e9f-429b-951f-92a3ee2938fd",
   "metadata": {},
   "outputs": [],
   "source": [
    "## load the annotations corresponding to the image and category\n",
    "\n",
    "# load annotation ids using the selected indexs\n",
    "selected_ann_ids = coco_obj.getAnnIds(imgIds = [selected_img_id], catIds = cat_ids)\n",
    "selected_anns = coco_obj.loadAnns(selected_ann_ids)\n",
    "print(selected_anns)\n",
    "\n",
    "# plot annotation ids\n",
    "plot_image = local_image\n",
    "\n",
    "plt.figure()\n",
    "\n",
    "plt.subplot(1,2,1)\n",
    "plt.imshow(plot_image)\n",
    "plt.xticks([])\n",
    "plt.yticks([])\n",
    "plt.title(\"Image\")\n",
    "\n",
    "plt.subplot(1,2,2)\n",
    "plt.imshow(plot_image)\n",
    "\n",
    "for cur_ann in selected_anns:\n",
    "    # convert annonation dictionary to mask \n",
    "    cur_mask = coco_obj.annToMask(cur_ann)\n",
    "    \n",
    "    print(cur_mask.shape)\n",
    "    cur_map = np.full(cur_mask.shape, np.nan)\n",
    "    cur_map[cur_mask > 0] = cur_ann[\"category_id\"]\n",
    "    \n",
    "    plt.imshow(cur_map, cmap = \"tab20c\")\n",
    "\n",
    "plt.xticks([])\n",
    "plt.yticks([])\n",
    "plt.title(\"Segmenetation\")\n",
    "\n",
    "plt.tight_layout()\n",
    "plt.show()"
   ]
  },
  {
   "cell_type": "code",
   "execution_count": null,
   "id": "d00600cc-2d00-4508-a2ee-92c1cc00fd6c",
   "metadata": {},
   "outputs": [],
   "source": []
  }
 ],
 "metadata": {
  "kernelspec": {
   "display_name": "Python 3 (ipykernel)",
   "language": "python",
   "name": "python3"
  },
  "language_info": {
   "codemirror_mode": {
    "name": "ipython",
    "version": 3
   },
   "file_extension": ".py",
   "mimetype": "text/x-python",
   "name": "python",
   "nbconvert_exporter": "python",
   "pygments_lexer": "ipython3",
   "version": "3.10.13"
  }
 },
 "nbformat": 4,
 "nbformat_minor": 5
}
