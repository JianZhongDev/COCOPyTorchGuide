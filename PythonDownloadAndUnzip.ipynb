{
 "cells": [
  {
   "cell_type": "code",
   "execution_count": null,
   "id": "60e25493-8a48-4bde-91cb-9fcdc531fded",
   "metadata": {},
   "outputs": [],
   "source": [
    "## import modules\n",
    "import os\n",
    "import importlib"
   ]
  },
  {
   "cell_type": "code",
   "execution_count": null,
   "id": "17f46a81-1367-412d-9b5a-a60aae600610",
   "metadata": {},
   "outputs": [],
   "source": [
    "## import customized modules\n",
    "import Modules.DataFileUtils as DataFileUtils"
   ]
  },
  {
   "cell_type": "code",
   "execution_count": null,
   "id": "cb965181-d26d-40bd-8f7d-7a3128483214",
   "metadata": {},
   "outputs": [],
   "source": [
    "## configuration parameters\n",
    "src_url = \"http://images.cocodataset.org/annotations/annotations_trainval2014.zip\"\n",
    "local_dir = \"./data\""
   ]
  },
  {
   "cell_type": "code",
   "execution_count": null,
   "id": "24494684-a559-47e5-bf3e-a26255177f37",
   "metadata": {},
   "outputs": [],
   "source": [
    "## download zip file from url\n",
    "importlib.reload(DataFileUtils)\n",
    "\n",
    "local_zip_file_path = DataFileUtils.download_url_to_local_dir(\n",
    "    src_url = src_url,\n",
    "    dst_dir_path = local_dir,\n",
    "    chunk_size = 512, \n",
    "    overwrite = False\n",
    ")\n",
    "\n",
    "print(local_zip_file_path)"
   ]
  },
  {
   "cell_type": "code",
   "execution_count": null,
   "id": "41278605-7a91-46f8-ba7f-26f4e5a9dfac",
   "metadata": {},
   "outputs": [],
   "source": [
    "## unzip local zipfile\n",
    "importlib.reload(DataFileUtils)\n",
    "\n",
    "local_unzip_dir_path = DataFileUtils.unzip_file_to_dir(\n",
    "    src_zip_file_path = local_zip_file_path,\n",
    ")\n",
    "\n",
    "print(local_unzip_dir_path)"
   ]
  },
  {
   "cell_type": "code",
   "execution_count": null,
   "id": "b5ddf2c9-c57f-45a1-9cfa-1590ed8445e2",
   "metadata": {},
   "outputs": [],
   "source": []
  }
 ],
 "metadata": {
  "kernelspec": {
   "display_name": "Python 3 (ipykernel)",
   "language": "python",
   "name": "python3"
  },
  "language_info": {
   "codemirror_mode": {
    "name": "ipython",
    "version": 3
   },
   "file_extension": ".py",
   "mimetype": "text/x-python",
   "name": "python",
   "nbconvert_exporter": "python",
   "pygments_lexer": "ipython3",
   "version": "3.10.13"
  }
 },
 "nbformat": 4,
 "nbformat_minor": 5
}
